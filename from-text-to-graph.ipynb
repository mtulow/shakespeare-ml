{
 "cells": [
  {
   "cell_type": "markdown",
   "id": "41acab33-0a55-4f6b-ac80-a2e6c393c9d2",
   "metadata": {},
   "source": [
    "# <center>From Text to a Knowledge Graph</center>\n",
    "#### Hands-on\n",
    "---"
   ]
  },
  {
   "cell_type": "code",
   "execution_count": 1,
   "id": "857826bc-9ea8-4e84-a657-31474fc2e046",
   "metadata": {},
   "outputs": [],
   "source": [
    "!pip install --quiet spacy_dbpedia_spotlight\n",
    "!pip install --quiet rdflib"
   ]
  },
  {
   "cell_type": "code",
   "execution_count": null,
   "id": "ce8c7c87-8516-459c-956f-070d84a4ce3a",
   "metadata": {},
   "outputs": [],
   "source": [
    "import spacy\n",
    "\n",
    "import spacy_dbpedia_spotlight\n",
    "\n",
    "from spacy.matcher import Matcher"
   ]
  },
  {
   "cell_type": "code",
   "execution_count": null,
   "id": "25ec1a78-3deb-4341-b6d2-30c9213e9149",
   "metadata": {},
   "outputs": [],
   "source": [
    "text = \"Joe Biden married Jill Tracy Jacobs, who was educated at the University of Delaware. \"\\\n",
    "\"The spent their honeymoon at Lake Balaton in the Hungarian People's Republic.\"\n"
   ]
  },
  {
   "cell_type": "code",
   "execution_count": null,
   "id": "4d5d2143-d1d1-4b71-948a-03c45e7fda5a",
   "metadata": {},
   "outputs": [],
   "source": [
    "nlp = spacy.load(\"en_core_web_sm\")\n",
    "\n",
    "nlp.add_pipe('dbpedia_spotlight')\n",
    "\n",
    "doc = nlp(\"Joe Biden married Jill Tracy Jacobs, who was educated at the University of Delaware\")\n",
    "\n",
    "# Tokenization\n",
    "print([token.text for token in doc], sep=' ')"
   ]
  }
 ],
 "metadata": {
  "kernelspec": {
   "display_name": "Python 3 (ipykernel)",
   "language": "python",
   "name": "python3"
  },
  "language_info": {
   "codemirror_mode": {
    "name": "ipython",
    "version": 3
   },
   "file_extension": ".py",
   "mimetype": "text/x-python",
   "name": "python",
   "nbconvert_exporter": "python",
   "pygments_lexer": "ipython3",
   "version": "3.9.12"
  }
 },
 "nbformat": 4,
 "nbformat_minor": 5
}
