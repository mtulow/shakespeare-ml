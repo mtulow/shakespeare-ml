{
 "cells": [
  {
   "cell_type": "markdown",
   "id": "6ba246fb-f5a1-45d4-a85b-c1e6906da341",
   "metadata": {},
   "source": [
    "# \n",
    "---"
   ]
  },
  {
   "cell_type": "code",
   "execution_count": null,
   "id": "e606e456-5ec1-45a4-8bae-19352d61add8",
   "metadata": {},
   "outputs": [],
   "source": []
  },
  {
   "cell_type": "code",
   "execution_count": null,
   "id": "e2eac07b-1f1d-4e1a-ab7b-c74c5f24f15e",
   "metadata": {},
   "outputs": [],
   "source": []
  },
  {
   "cell_type": "code",
   "execution_count": null,
   "id": "99302a95-ec87-4ec8-8a3a-199b665dcf0a",
   "metadata": {},
   "outputs": [],
   "source": []
  },
  {
   "cell_type": "code",
   "execution_count": null,
   "id": "dca78f6f-5497-43c4-adfa-58da2b4a5e83",
   "metadata": {},
   "outputs": [],
   "source": []
  },
  {
   "cell_type": "code",
   "execution_count": null,
   "id": "0fe4ddf5-e608-4a00-a766-d1a57d3be56e",
   "metadata": {},
   "outputs": [],
   "source": []
  },
  {
   "cell_type": "code",
   "execution_count": null,
   "id": "d897f4c1-74e3-4adf-9df4-7e5e3e054286",
   "metadata": {},
   "outputs": [],
   "source": []
  },
  {
   "cell_type": "code",
   "execution_count": null,
   "id": "4abb2789-90ec-4aab-9118-f6c8e586e0c9",
   "metadata": {},
   "outputs": [],
   "source": []
  },
  {
   "cell_type": "code",
   "execution_count": null,
   "id": "7a29a05a-f21a-436c-a4d4-1756915b4b8e",
   "metadata": {},
   "outputs": [],
   "source": []
  },
  {
   "cell_type": "code",
   "execution_count": null,
   "id": "39617cd7-8989-48d3-a95b-2e382ee10fce",
   "metadata": {},
   "outputs": [],
   "source": []
  },
  {
   "cell_type": "code",
   "execution_count": null,
   "id": "8c7158a2-788b-4b1d-b240-4d6e8c2ece16",
   "metadata": {},
   "outputs": [],
   "source": []
  },
  {
   "cell_type": "code",
   "execution_count": null,
   "id": "62ba82fe-b5cd-4bd5-a061-48ba9958ae5a",
   "metadata": {},
   "outputs": [],
   "source": []
  },
  {
   "cell_type": "code",
   "execution_count": null,
   "id": "19647a4e-eabe-4f16-9e08-87d17f88fb59",
   "metadata": {},
   "outputs": [],
   "source": []
  },
  {
   "cell_type": "code",
   "execution_count": null,
   "id": "a1a72089-7c6a-4bdc-814f-f86b066d7223",
   "metadata": {},
   "outputs": [],
   "source": []
  },
  {
   "cell_type": "code",
   "execution_count": null,
   "id": "90b8d43a-bca1-45d2-991e-2a93d688fc57",
   "metadata": {},
   "outputs": [],
   "source": []
  },
  {
   "cell_type": "markdown",
   "id": "980d08f4-c3b8-4078-b209-2f6d63374ce5",
   "metadata": {},
   "source": [
    "__To process the plays the following process is used:__\n",
    "1. Split each play into sentence length snippets.\n",
    "2. Use the language model `all_lm_mini_L12_V3` to create an embedding for each snippet\n",
    "3. Index all embeddings\n",
    "4. Add each snippet to the ItemDB, ensure that\n",
    "5. For all snippets find the top k nearest neighbours in the index using an approximate kNN\n",
    "6. For all snippits in each play count the number of nearest neighbours in all the other plays (calculate matrix)\n",
    "7. For all plays link to other plays where there is a “significantly” higher number of near neighbours than the mean."
   ]
  },
  {
   "cell_type": "code",
   "execution_count": null,
   "id": "37c40330-d3f8-4448-953b-626cb2199ec5",
   "metadata": {},
   "outputs": [],
   "source": []
  }
 ],
 "metadata": {
  "kernelspec": {
   "display_name": "Python 3 (ipykernel)",
   "language": "python",
   "name": "python3"
  },
  "language_info": {
   "codemirror_mode": {
    "name": "ipython",
    "version": 3
   },
   "file_extension": ".py",
   "mimetype": "text/x-python",
   "name": "python",
   "nbconvert_exporter": "python",
   "pygments_lexer": "ipython3",
   "version": "3.9.12"
  }
 },
 "nbformat": 4,
 "nbformat_minor": 5
}
