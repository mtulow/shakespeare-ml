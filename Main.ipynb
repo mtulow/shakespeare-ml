{
 "cells": [
  {
   "cell_type": "markdown",
   "id": "6ba246fb-f5a1-45d4-a85b-c1e6906da341",
   "metadata": {},
   "source": [
    "# \n",
    "---"
   ]
  },
  {
   "cell_type": "markdown",
   "id": "0c47af49-4455-4369-a9ef-91798f28b9bf",
   "metadata": {},
   "source": [
    "![](https://github.com/mtulow/shakespeare-ml/blob/main/images/schematic.png)"
   ]
  },
  {
   "cell_type": "code",
   "execution_count": null,
   "id": "006f0b58-a06f-41d1-9eaa-e954609c0abc",
   "metadata": {},
   "outputs": [],
   "source": []
  }
 ],
 "metadata": {
  "kernelspec": {
   "display_name": "Python 3 (ipykernel)",
   "language": "python",
   "name": "python3"
  },
  "language_info": {
   "codemirror_mode": {
    "name": "ipython",
    "version": 3
   },
   "file_extension": ".py",
   "mimetype": "text/x-python",
   "name": "python",
   "nbconvert_exporter": "python",
   "pygments_lexer": "ipython3",
   "version": "3.9.12"
  }
 },
 "nbformat": 4,
 "nbformat_minor": 5
}
